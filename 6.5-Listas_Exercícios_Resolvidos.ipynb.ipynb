{
  "metadata": {
    "kernelspec": {
      "name": "python",
      "display_name": "Python (Pyodide)",
      "language": "python"
    },
    "language_info": {
      "codemirror_mode": {
        "name": "python",
        "version": 3
      },
      "file_extension": ".py",
      "mimetype": "text/x-python",
      "name": "python",
      "nbconvert_exporter": "python",
      "pygments_lexer": "ipython3",
      "version": "3.8"
    }
  },
  "nbformat_minor": 5,
  "nbformat": 4,
  "cells": [
    {
      "id": "5ecdd0ff-e55d-41a3-980d-4f408f72fe69",
      "cell_type": "code",
      "source": " Q1 - Fatorial\npython\nCopiar\nEditar\n## Crie aqui a função fatorial()\ndef fatorial(n):\n    fat = 1\n    for i in range(1, n + 1):\n        fat *= i\n    return fat\npython\nCopiar\nEditar\n## Escreva aqui o programa principal e execute a célula\nn = int(input(\"Digite um número inteiro: \"))\nprint(f\"O fatorial de {n} é {fatorial(n)}\")\n✅ Q2 - Soma dos quadrados\npython\nCopiar\nEditar\n## Crie aqui a função soma_quadrados()\ndef soma_quadrados(a, b):\n    return a**2 + b**2\npython\nCopiar\nEditar\n## Escreva aqui o programa principal e execute a célula\nx = int(input(\"Digite o primeiro número: \"))\ny = int(input(\"Digite o segundo número: \"))\nprint(f\"A soma dos quadrados é: {soma_quadrados(x, y)}\")\n✅ Q3 - Soma dos dígitos\npython\nCopiar\nEditar\n## Crie aqui a função soma_digitos()\ndef soma_digitos(n):\n    soma = 0\n    while n > 0:\n        soma += n % 10\n        n //= 10\n    return soma\npython\nCopiar\nEditar\n## Escreva aqui o programa principal e execute a célula\nnum = int(input(\"Digite um número inteiro: \"))\nprint(f\"A soma dos dígitos é: {soma_digitos(num)}\")\n✅ Q4 - Inverso de número e verificação\npython\nCopiar\nEditar\n## Crie aqui as funções inverteValor() e verificaInverso()\ndef inverteValor(n):\n    return int(str(n)[::-1])\n\ndef verificaInverso(n):\n    return n == inverteValor(n)\npython\nCopiar\nEditar\n## Escreva aqui o programa principal e execute a célula\nnumero = int(input(\"Digite um número inteiro: \"))\nprint(f\"Inverso: {inverteValor(numero)}\")\nif verificaInverso(numero):\n    print(\"O número é igual ao seu inverso.\")\nelse:\n    print(\"O número não é igual ao seu inverso.\")\n✅ Q5 - Lambda com map, filter e reduce\npython\nCopiar\nEditar\n## Crie aqui as funções\nfrom functools import reduce\n\n# Lista de números\nnumeros = [1, 2, 3, 4, 5, 6, 7, 8, 9, 10]\n\n# Dobrar os valores\ndobrados = list(map(lambda x: x * 2, numeros))\n\n# Filtrar pares\npares = list(filter(lambda x: x % 2 == 0, numeros))\n\n# Somar todos os valores\nsoma_total = reduce(lambda x, y: x + y, numeros)\npython\nCopiar\nEditar\n## Escreva aqui o programa principal\nprint(\"Números originais:\", numeros)\nprint(\"Dobro dos números:\", dobrados)\nprint(\"Números pares:\", pares)\nprint(\"Soma de todos os números:\", soma_total)",
      "metadata": {
        "trusted": true
      },
      "outputs": [],
      "execution_count": null
    }
  ]
}