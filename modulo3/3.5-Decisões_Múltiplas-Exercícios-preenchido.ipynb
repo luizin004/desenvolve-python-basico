{
 "cells": [
  {
   "cell_type": "markdown",
   "id": "559687a1",
   "metadata": {},
   "source": [
    "# Módulo 3 - Condicionais\n",
    "\n",
    "## 3.5 - Decisões Múltiplas"
   ]
  },
  {
   "cell_type": "markdown",
   "id": "42f823b3",
   "metadata": {},
   "source": [
    "### Q1.\n",
    "\n",
    "Vamos fazer uma calculadora! Escreva um programa que solicita 3 entradas: o primeiro operando (float), o operador (caracter) e o segundo operando (float). Seu programa deve imprimir o resultado da operação solicitada, entre soma (+), subtração (-), divisão (/), multiplicação (\\*) ou potência (\\*\\*). Seu programa também deve imprimir uma mensagem de erro se a operação solicitada não estiver dentre as opções disponíveis.\n",
    "\n",
    "Seguem alguns exemplos de interação com seu código no terminal. \n",
    "\n",
    "\n",
    "```\n",
    "Digite o primeiro operando: 5.2\n",
    "Digite o operador (+, -, /, *, **): *\n",
    "Digite o segundo operando` 3\n",
    "Resultado: 5.2 * 3.0 = 15.6\n",
    "```\n",
    "\n",
    "```\n",
    "Digite o primeiro operando: 8\n",
    "Digite o operador (+, -, /, *, **): **\n",
    "Digite o segundo operando: 2\n",
    "Resultado: 8.0 * 2.0 = 64.0\n",
    "```\n",
    "\n",
    "```\n",
    "Digite o primeiro operando: 7\n",
    "Digite o operador (+, -, /, *, **): %\n",
    "Digite o segundo operando: 3.4\n",
    "Erro! Operação inválida. \n",
    "```\n",
    "\n",
    "```\n",
    "Digite o primeiro operando: 10\n",
    "Digite o operador (+, -, /, *, **): /\n",
    "Digite o segundo operando: 2.5\n",
    "Resultado: 10.0 / 2.5 = 4.0\n",
    "```\n",
    "\n"
   ]
  },
  {
   "cell_type": "code",
   "execution_count": null,
   "id": "c5b8cd4d",
   "metadata": {},
   "outputs": [],
   "source": [
    "# Exercício 1: Verifica se a soma de dois números é par ou ímpar\n",
    "num1 = int(input(\"Digite o primeiro número: \"))\n",
    "num2 = int(input(\"Digite o segundo número: \"))\n",
    "soma = num1 + num2\n",
    "if soma % 2 == 0:\n",
    "    print(\"A soma é par.\")\n",
    "else:\n",
    "    print(\"A soma é ímpar.\")"
   ]
  },
  {
   "cell_type": "markdown",
   "id": "d135df39",
   "metadata": {},
   "source": [
    "### Q2.\n",
    "\n",
    "Escreva um programa que leia os comprimentos dos 3 lados de um triângulo e diga se o triângulo é equilátero, isóceles ou escaleno. Regras:\n",
    "- Isóceles: Quaisquer dois lados com o mesmo comprimento\n",
    "- Equilátero: Os três lados tem o mesmo comprimento\n",
    "- Escaleno: Três lados de comprimento diferente \n",
    "\n",
    "Note que a ordem das condições importa! Seguem alguns exemplos de interação com seu código no terminal. \n",
    "\n",
    "```\n",
    "Digite o comprimento do lado 1: 4\n",
    "Digite o comprimento do lado 2: 4\n",
    "Digite o comprimento do lado 3: 6\n",
    "Triângulo: Isóceles\n",
    "```\n",
    "\n",
    "```\n",
    "Digite o comprimento do lado 1: 5\n",
    "Digite o comprimento do lado 2: 5\n",
    "Digite o comprimento do lado 3: 5\n",
    "Triângulo: Equilátero\n",
    "```\n",
    "\n",
    "```\n",
    "Digite o comprimento do lado 1: 7\n",
    "Digite o comprimento do lado 2: 4\n",
    "Digite o comprimento do lado 3: 9\n",
    "Triângulo: Escaleno\n",
    "```\n",
    "\n"
   ]
  },
  {
   "cell_type": "code",
   "execution_count": null,
   "id": "cfcf9a80",
   "metadata": {},
   "outputs": [],
   "source": [
    "# Exercício 2: Avaliação do filme\n",
    "avaliacao = int(input(\"Digite a avaliação do filme (1 a 5): \"))\n",
    "if avaliacao == 5:\n",
    "    print(\"Excelente!\")\n",
    "elif avaliacao == 4:\n",
    "    print(\"Muito Bom!\")\n",
    "elif avaliacao == 3:\n",
    "    print(\"Bom!\")\n",
    "elif avaliacao == 2:\n",
    "    print(\"Regular.\")\n",
    "elif avaliacao == 1:\n",
    "    print(\"Ruim.\")\n",
    "else:\n",
    "    print(\"Avaliação inválida.\")"
   ]
  },
  {
   "cell_type": "markdown",
   "id": "ed3405fb",
   "metadata": {},
   "source": [
    "### Q3.\n",
    "\n",
    "Você está desenvolvendo um sistema de avaliação de desempenho para um jogo. Escreva um programa em Python que avalia a pontuação do jogador em uma missão e atribui uma classificação com base nas seguintes condições:\n",
    "\n",
    "- Se a pontuação for menor que 70, atribua a classificação \"Insatisfatório\".\n",
    "- Se a pontuação for maior ou igual a 70, atribua a classificação \"Regular\".\n",
    "- Se a pontuação for maior ou igual a 80, atribua a classificação \"Bom\".\n",
    "- Se a pontuação for maior ou igual a 90, atribua a classificação \"Excelente\".\n",
    "\n",
    "Escreva um programa que solicita ao usuário a pontuação e imprime a classificação correspondente."
   ]
  },
  {
   "cell_type": "code",
   "execution_count": null,
   "id": "a7a842ae",
   "metadata": {},
   "outputs": [],
   "source": [
    "# Exercício 3: Verificador de ano bissexto\n",
    "ano = int(input(\"Digite um ano: \"))\n",
    "if (ano % 4 == 0 and ano % 100 != 0) or (ano % 400 == 0):\n",
    "    print(\"Bissexto\")\n",
    "else:\n",
    "    print(\"Não Bissexto\")"
   ]
  },
  {
   "cell_type": "markdown",
   "id": "6cafaa50",
   "metadata": {},
   "source": [
    "### Q4.\n",
    "\n",
    "Você está implementando um sistema de desconto em uma loja online. Escreva um programa em Python que calcula o desconto com base no valor total da compra e atribui diferentes níveis de desconto de acordo com as seguintes condições:\n",
    "\n",
    "- Se o valor total da compra for menor que R\\$ 50, não há desconto.\n",
    "- Se o valor total da compra for maior ou igual a R\\$ 50, atribua um desconto de 10%.\n",
    "- Se o valor total da compra for maior ou igual a R\\$ 100, atribua um desconto de 20%.\n",
    "\n",
    "\n",
    "Seguem alguns exemplos de interação com seu código no terminal. Preste atenção na formatação esperada para as saídas.\n",
    "\n",
    "```\n",
    "Digite o valor total da compra: 120\n",
    "Desconto aplicado: 20.0%\n",
    "Valor final com desconto: R$96.00\n",
    "```\n",
    "\n",
    "```\n",
    "Digite o valor total da compra: 65\n",
    "Desconto aplicado: 10.0%\n",
    "Valor final com desconto: R$58.50\n",
    "```\n",
    "\n",
    "```\n",
    "Digite o valor total da compra: 40\n",
    "Desconto aplicado: 0.0%\n",
    "Valor final com desconto: R$40.00\n",
    "```\n",
    "\n",
    "\n"
   ]
  },
  {
   "cell_type": "code",
   "execution_count": null,
   "id": "3b1b1929",
   "metadata": {},
   "outputs": [],
   "source": [
    "# Exercício 4: Cálculo de frete com base na distância e no peso\n",
    "distancia = float(input(\"Digite a distância da entrega (em km): \"))\n",
    "peso = float(input(\"Digite o peso do pacote (em kg): \"))\n",
    "if distancia <= 100:\n",
    "    valor_por_kg = 1.00\n",
    "elif distancia <= 300:\n",
    "    valor_por_kg = 1.50\n",
    "else:\n",
    "    valor_por_kg = 2.00\n",
    "frete = peso * valor_por_kg\n",
    "if peso > 10:\n",
    "    frete += 10.00\n",
    "print(f\"Valor do frete: R${frete:.2f}\")"
   ]
  },
  {
   "cell_type": "markdown",
   "id": "dc5db6d7",
   "metadata": {},
   "source": [
    "### Q5.\n",
    "\n",
    "Crie um sistema de autenticação em Python. O sistema deve funcionar da\n",
    "seguinte maneira:\n",
    "\n",
    "1. Um banco de dados fictício deve ser implementado como um dicionário,\n",
    "onde a chave é o nome do usuário e o valor é uma tupla contendo a senha e\n",
    "o nível de acesso do usuário.\n",
    "\n",
    "2. O programa deve solicitar ao usuário que insira seu usuário e senha.\n",
    "\n",
    "3. O sistema deve:\n",
    "* Verificar se o login existe no banco de dados.\n",
    "* Comparar a senha fornecida com a armazenada no banco.\n",
    "* Caso as credenciais sejam válidas, exibir uma mensagem de sucesso e o nível de acesso do usuário.\n",
    "* Caso seja inválido deverá retornar mensagem: “Erro: Usuário ou\n",
    "senha inválidos.”\n",
    "* O programa deve rodar em um laço para permitir múltiplas\n",
    "tentativas de login, mas também permitir que o usuário opte por sair\n",
    "do programa.\n",
    "\n",
    "Atributos dos 3 usuários cadastrados no sistema (usuário, senha e nível)\n",
    "\n",
    "1) admin – admin123 – Administrador\n",
    "2) usuario1 – senha123 – Usuário Comum\n",
    "3) visitante1 – guest2024 – Visitante"
   ]
  },
  {
   "cell_type": "code",
   "execution_count": null,
   "id": "b90304eb",
   "metadata": {},
   "outputs": [],
   "source": [
    "## Escreva e execute seu código aqui\n"
   ]
  }
 ],
 "metadata": {
  "kernelspec": {
   "display_name": "Python 3 (ipykernel)",
   "language": "python",
   "name": "python3"
  },
  "language_info": {
   "codemirror_mode": {
    "name": "ipython",
    "version": 3
   },
   "file_extension": ".py",
   "mimetype": "text/x-python",
   "name": "python",
   "nbconvert_exporter": "python",
   "pygments_lexer": "ipython3",
   "version": "3.9.6"
  }
 },
 "nbformat": 4,
 "nbformat_minor": 5
}
